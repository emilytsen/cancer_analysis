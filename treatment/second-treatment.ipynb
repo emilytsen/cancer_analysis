{
 "cells": [
  {
   "cell_type": "markdown",
   "metadata": {},
   "source": [
    "### Change title names from de DF"
   ]
  },
  {
   "cell_type": "code",
   "execution_count": 56,
   "metadata": {},
   "outputs": [],
   "source": [
    "import pandas as pd"
   ]
  },
  {
   "cell_type": "code",
   "execution_count": 57,
   "metadata": {},
   "outputs": [
    {
     "name": "stdout",
     "output_type": "stream",
     "text": [
      "       COUNTRY CODE  YEAR  LIVER CANCER   KIDNEY CANCER   LARYNX CANCER   \\\n",
      "0  AFGHANISTAN  AFG  1990         243.66           39.47          109.33   \n",
      "1  AFGHANISTAN  AFG  1991         261.24           41.38          117.31   \n",
      "2  AFGHANISTAN  AFG  1992         284.44           44.11          128.07   \n",
      "3  AFGHANISTAN  AFG  1993         313.14           47.42          141.43   \n",
      "4  AFGHANISTAN  AFG  1994         343.23           50.71          155.75   \n",
      "\n",
      "   BREAST CANCER   THYROID CANCER   STOMACH CANCER   BLADDER CANCER   ...  \\\n",
      "0          766.54            79.82           923.50           148.14  ...   \n",
      "1          823.23            85.11           989.71           156.98  ...   \n",
      "2          901.02            92.24          1078.46           168.99  ...   \n",
      "3          996.43           101.21          1192.06           184.35  ...   \n",
      "4         1097.90           110.68          1316.51           200.25  ...   \n",
      "\n",
      "   NON-MELANOMA SKIN CANCER   LIP AND ORAL CAVITY CANCER   \\\n",
      "0                      26.45                        53.60   \n",
      "1                      28.28                        57.15   \n",
      "2                      30.72                        61.88   \n",
      "3                      33.84                        67.50   \n",
      "4                      37.10                        73.18   \n",
      "\n",
      "   BRAIN AND NERVOUS SYSTEM CANCER   TRACHEAL, BRONCHUS, AND LUNG CANCER   \\\n",
      "0                            163.87                                797.27   \n",
      "1                            174.18                                853.13   \n",
      "2                            188.38                                927.81   \n",
      "3                            205.25                               1017.96   \n",
      "4                            222.38                               1111.00   \n",
      "\n",
      "   GALLBLADDER AND BILIARY TRACT CANCER   MALIGNANT SKIN MELANOMA   LEUKEMIA   \\\n",
      "0                                 125.94                     14.29     727.76   \n",
      "1                                 133.78                     15.24     766.04   \n",
      "2                                 144.29                     16.51     820.96   \n",
      "3                                 157.47                     18.04     891.13   \n",
      "4                                 171.31                     19.61     965.29   \n",
      "\n",
      "   HODGKIN LYMPHOMA   MULTIPLE MYELOMA   OTHER CANCERS   \n",
      "0             191.37              50.72          294.84  \n",
      "1             203.51              54.32          311.47  \n",
      "2             220.21              59.14          334.57  \n",
      "3             240.72              64.94          362.49  \n",
      "4             262.32              70.93          390.33  \n",
      "\n",
      "[5 rows x 30 columns]\n"
     ]
    }
   ],
   "source": [
    "# Load the CSV data into a DataFrame\n",
    "df = pd.read_csv('/Users/emilytsen/Documents/projects/ds_cancer/df/df_countrys.csv')\n",
    "\n",
    "print(df.head())\n"
   ]
  },
  {
   "cell_type": "code",
   "execution_count": 58,
   "metadata": {},
   "outputs": [
    {
     "name": "stdout",
     "output_type": "stream",
     "text": [
      "       COUNTRY CODE  YEAR  LIVER CANCER  KIDNEY CANCER  LARYNX CANCER  \\\n",
      "0  AFGHANISTAN  AFG  1990        243.66          39.47         109.33   \n",
      "1  AFGHANISTAN  AFG  1991        261.24          41.38         117.31   \n",
      "2  AFGHANISTAN  AFG  1992        284.44          44.11         128.07   \n",
      "3  AFGHANISTAN  AFG  1993        313.14          47.42         141.43   \n",
      "4  AFGHANISTAN  AFG  1994        343.23          50.71         155.75   \n",
      "\n",
      "   BREAST CANCER  THYROID CANCER  STOMACH CANCER  BLADDER CANCER  ...  \\\n",
      "0         766.54           79.82          923.50          148.14  ...   \n",
      "1         823.23           85.11          989.71          156.98  ...   \n",
      "2         901.02           92.24         1078.46          168.99  ...   \n",
      "3         996.43          101.21         1192.06          184.35  ...   \n",
      "4        1097.90          110.68         1316.51          200.25  ...   \n",
      "\n",
      "   NON-MELANOMA SKIN CANCER  LIP AND ORAL CAVITY CANCER  \\\n",
      "0                     26.45                       53.60   \n",
      "1                     28.28                       57.15   \n",
      "2                     30.72                       61.88   \n",
      "3                     33.84                       67.50   \n",
      "4                     37.10                       73.18   \n",
      "\n",
      "   BRAIN AND NERVOUS SYSTEM CANCER  TRACHEAL, BRONCHUS, AND LUNG CANCER  \\\n",
      "0                           163.87                               797.27   \n",
      "1                           174.18                               853.13   \n",
      "2                           188.38                               927.81   \n",
      "3                           205.25                              1017.96   \n",
      "4                           222.38                              1111.00   \n",
      "\n",
      "   GALLBLADDER AND BILIARY TRACT CANCER  MALIGNANT SKIN MELANOMA  LEUKEMIA  \\\n",
      "0                                125.94                    14.29    727.76   \n",
      "1                                133.78                    15.24    766.04   \n",
      "2                                144.29                    16.51    820.96   \n",
      "3                                157.47                    18.04    891.13   \n",
      "4                                171.31                    19.61    965.29   \n",
      "\n",
      "   HODGKIN LYMPHOMA  MULTIPLE MYELOMA  OTHER CANCERS  \n",
      "0            191.37             50.72         294.84  \n",
      "1            203.51             54.32         311.47  \n",
      "2            220.21             59.14         334.57  \n",
      "3            240.72             64.94         362.49  \n",
      "4            262.32             70.93         390.33  \n",
      "\n",
      "[5 rows x 30 columns]\n"
     ]
    }
   ],
   "source": [
    "# Remove trailing spaces from column names\n",
    "df.columns = df.columns.str.rstrip()\n",
    "\n",
    "# Display the DataFrame to check the updated column names\n",
    "print(df.head())"
   ]
  },
  {
   "cell_type": "code",
   "execution_count": 59,
   "metadata": {},
   "outputs": [
    {
     "name": "stdout",
     "output_type": "stream",
     "text": [
      "       COUNTRY CODE  YEAR  LIVER_CANCER  KIDNEY_CANCER  LARYNX_CANCER  \\\n",
      "0  AFGHANISTAN  AFG  1990        243.66          39.47         109.33   \n",
      "1  AFGHANISTAN  AFG  1991        261.24          41.38         117.31   \n",
      "2  AFGHANISTAN  AFG  1992        284.44          44.11         128.07   \n",
      "3  AFGHANISTAN  AFG  1993        313.14          47.42         141.43   \n",
      "4  AFGHANISTAN  AFG  1994        343.23          50.71         155.75   \n",
      "\n",
      "   BREAST_CANCER  THYROID_CANCER  STOMACH_CANCER  BLADDER_CANCER  ...  \\\n",
      "0         766.54           79.82          923.50          148.14  ...   \n",
      "1         823.23           85.11          989.71          156.98  ...   \n",
      "2         901.02           92.24         1078.46          168.99  ...   \n",
      "3         996.43          101.21         1192.06          184.35  ...   \n",
      "4        1097.90          110.68         1316.51          200.25  ...   \n",
      "\n",
      "   NON-MELANOMA_SKIN_CANCER  LIP_AND_ORAL_CAVITY_CANCER  \\\n",
      "0                     26.45                       53.60   \n",
      "1                     28.28                       57.15   \n",
      "2                     30.72                       61.88   \n",
      "3                     33.84                       67.50   \n",
      "4                     37.10                       73.18   \n",
      "\n",
      "   BRAIN_AND_NERVOUS_SYSTEM_CANCER  TRACHEAL,_BRONCHUS,_AND_LUNG_CANCER  \\\n",
      "0                           163.87                               797.27   \n",
      "1                           174.18                               853.13   \n",
      "2                           188.38                               927.81   \n",
      "3                           205.25                              1017.96   \n",
      "4                           222.38                              1111.00   \n",
      "\n",
      "   GALLBLADDER_AND_BILIARY_TRACT_CANCER  MALIGNANT_SKIN_MELANOMA  LEUKEMIA  \\\n",
      "0                                125.94                    14.29    727.76   \n",
      "1                                133.78                    15.24    766.04   \n",
      "2                                144.29                    16.51    820.96   \n",
      "3                                157.47                    18.04    891.13   \n",
      "4                                171.31                    19.61    965.29   \n",
      "\n",
      "   HODGKIN_LYMPHOMA  MULTIPLE_MYELOMA  OTHER_CANCERS  \n",
      "0            191.37             50.72         294.84  \n",
      "1            203.51             54.32         311.47  \n",
      "2            220.21             59.14         334.57  \n",
      "3            240.72             64.94         362.49  \n",
      "4            262.32             70.93         390.33  \n",
      "\n",
      "[5 rows x 30 columns]\n"
     ]
    }
   ],
   "source": [
    "# Remove spaces from column names\n",
    "df.columns = df.columns.str.replace(' ', '_')\n",
    "\n",
    "# Display the DataFrame to check the updated column names\n",
    "print(df.head())"
   ]
  },
  {
   "cell_type": "code",
   "execution_count": 60,
   "metadata": {},
   "outputs": [],
   "source": [
    "# Specify the path and file name to save\n",
    "file_path = '/Users/emilytsen/Documents/projects/ds_cancer/df/df_countrys.csv'\n",
    "\n",
    "# Save the DataFrame to the CSV file\n",
    "df.to_csv(file_path, index=False)\n",
    "\n"
   ]
  }
 ],
 "metadata": {
  "kernelspec": {
   "display_name": "Python 3",
   "language": "python",
   "name": "python3"
  },
  "language_info": {
   "codemirror_mode": {
    "name": "ipython",
    "version": 3
   },
   "file_extension": ".py",
   "mimetype": "text/x-python",
   "name": "python",
   "nbconvert_exporter": "python",
   "pygments_lexer": "ipython3",
   "version": "3.12.2"
  }
 },
 "nbformat": 4,
 "nbformat_minor": 2
}
