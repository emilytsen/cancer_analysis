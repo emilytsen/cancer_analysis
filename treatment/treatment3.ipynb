{
 "cells": [
  {
   "cell_type": "markdown",
   "metadata": {},
   "source": [
    "# treat life_expectency data base"
   ]
  },
  {
   "cell_type": "code",
   "execution_count": 7,
   "metadata": {},
   "outputs": [],
   "source": [
    "import pandas as pd"
   ]
  },
  {
   "cell_type": "code",
   "execution_count": 8,
   "metadata": {},
   "outputs": [],
   "source": [
    "data = pd.read_csv('/Users/emilytsen/Documents/projects/ds_cancer/df/life_expectancy.csv')"
   ]
  },
  {
   "cell_type": "code",
   "execution_count": 9,
   "metadata": {},
   "outputs": [
    {
     "name": "stdout",
     "output_type": "stream",
     "text": [
      "<class 'pandas.core.frame.DataFrame'>\n",
      "RangeIndex: 3253 entries, 0 to 3252\n",
      "Data columns (total 3 columns):\n",
      " #   Column           Non-Null Count  Dtype  \n",
      "---  ------           --------------  -----  \n",
      " 0   Entity           3253 non-null   object \n",
      " 1   Year             3253 non-null   int64  \n",
      " 2   Life expectancy  3253 non-null   float64\n",
      "dtypes: float64(1), int64(1), object(1)\n",
      "memory usage: 76.4+ KB\n",
      "None\n"
     ]
    }
   ],
   "source": [
    "print(data.info())"
   ]
  },
  {
   "cell_type": "code",
   "execution_count": 10,
   "metadata": {},
   "outputs": [
    {
     "name": "stdout",
     "output_type": "stream",
     "text": [
      "      Entity  Year  Life expectancy\n",
      "0  Australia  1802        34.049999\n",
      "1  Australia  1803        34.049999\n",
      "2  Australia  1804        34.049999\n",
      "3  Australia  1805        34.049999\n",
      "4  Australia  1806        34.049999\n"
     ]
    }
   ],
   "source": [
    "print(data.head())"
   ]
  },
  {
   "cell_type": "code",
   "execution_count": 11,
   "metadata": {},
   "outputs": [
    {
     "name": "stdout",
     "output_type": "stream",
     "text": [
      "              Year  Life expectancy\n",
      "count  3253.000000      3253.000000\n",
      "mean   1908.066093        48.680380\n",
      "std      62.613962        17.965669\n",
      "min    1800.000000         8.108836\n",
      "25%    1854.000000        32.000000\n",
      "50%    1908.000000        41.880001\n",
      "75%    1962.000000        66.820000\n",
      "max    2016.000000        83.940002\n"
     ]
    }
   ],
   "source": [
    "print(data.describe())"
   ]
  },
  {
   "cell_type": "markdown",
   "metadata": {},
   "source": [
    "*count:* O número total de observações no conjunto de dados. 3253 observações para o ano e a expectativa de vida.\n",
    "\n",
    "*mean:* A média dos valores. Para o ano: 1908.07, e para a expectativa de vida: 48.68. \n",
    "\n",
    "*std:* O desvio padrão, que mede a dispersão dos valores em relação à média. Quanto maior o desvio padrão, mais dispersos os valores estão em relação à média. No caso do ano, o desvio padrão é aproximadamente 62.61, e para a expectativa de vida, é aproximadamente 17.97.\n",
    "\n",
    "*min:* O valor mínimo observado. Para o ano: 1800 e para a expectativa de vida: 8.108836.\n",
    "\n",
    "*25% (percentil 25):* O valor abaixo do qual 25% das observações estão. Por exemplo, para o ano, 25% das observações têm um valor menor ou igual a 1854.\n",
    "\n",
    "*50% (percentil 50 ou mediana):* O valor que separa a metade inferior e a metade superior das observações. Para o ano, a mediana é 1908, o que significa que metade das observações são anteriores a 1908 e metade são posteriores a 1908.\n",
    "\n",
    "*75% (percentil 75):* O valor abaixo do qual 75% das observações estão. Por exemplo, para a expectativa de vida, 75% das observações têm um valor menor ou igual a 66.82.\n",
    "\n",
    "*max:* O valor máximo observado. Para o ano: 2016 e para a expectativa de vida: 83.94."
   ]
  },
  {
   "cell_type": "markdown",
   "metadata": {},
   "source": [
    "### contagem de valores nulos (NaN) em cada coluna do DataFrame:"
   ]
  },
  {
   "cell_type": "code",
   "execution_count": 12,
   "metadata": {},
   "outputs": [
    {
     "name": "stdout",
     "output_type": "stream",
     "text": [
      "Entity             0\n",
      "Year               0\n",
      "Life expectancy    0\n",
      "dtype: int64\n"
     ]
    }
   ],
   "source": [
    "print(data.isnull().sum())"
   ]
  },
  {
   "cell_type": "code",
   "execution_count": 15,
   "metadata": {},
   "outputs": [
    {
     "name": "stdout",
     "output_type": "stream",
     "text": [
      "Index(['ENTITY', 'YEAR', 'LIFE EXPECTANCY'], dtype='object')\n"
     ]
    }
   ],
   "source": [
    "data.columns = data.columns.str.upper()\n",
    "print(data.columns)"
   ]
  },
  {
   "cell_type": "code",
   "execution_count": 16,
   "metadata": {},
   "outputs": [
    {
     "name": "stdout",
     "output_type": "stream",
     "text": [
      "Index(['ENTITY', 'YEAR', 'LIFE_EXPECTANCY'], dtype='object')\n"
     ]
    }
   ],
   "source": [
    "data.columns = data.columns.str.replace(\" \", \"_\")\n",
    "print(data.columns)"
   ]
  },
  {
   "cell_type": "markdown",
   "metadata": {},
   "source": [
    "### exclude year 1800 - 1989"
   ]
  },
  {
   "cell_type": "code",
   "execution_count": 18,
   "metadata": {},
   "outputs": [
    {
     "name": "stdout",
     "output_type": "stream",
     "text": [
      "        ENTITY  YEAR  LIFE_EXPECTANCY\n",
      "188  Australia  1990        77.019997\n",
      "189  Australia  1991        77.389999\n",
      "190  Australia  1992        77.620003\n",
      "191  Australia  1993        77.889999\n",
      "192  Australia  1994        78.050003\n"
     ]
    }
   ],
   "source": [
    "filtered_data = data.query('YEAR >= 1990')\n",
    "\n",
    "print(filtered_data.head())"
   ]
  },
  {
   "cell_type": "code",
   "execution_count": null,
   "metadata": {},
   "outputs": [],
   "source": [
    "file_path = '/Users/emilytsen/Documents/projects/ds_cancer/df/life_expectancy.csv'\n",
    "\n",
    "# Save the DataFrame to the CSV file\n",
    "filtered_data.to_csv(file_path, index=False)"
   ]
  }
 ],
 "metadata": {
  "kernelspec": {
   "display_name": "Python 3",
   "language": "python",
   "name": "python3"
  },
  "language_info": {
   "codemirror_mode": {
    "name": "ipython",
    "version": 3
   },
   "file_extension": ".py",
   "mimetype": "text/x-python",
   "name": "python",
   "nbconvert_exporter": "python",
   "pygments_lexer": "ipython3",
   "version": "3.12.2"
  }
 },
 "nbformat": 4,
 "nbformat_minor": 2
}
