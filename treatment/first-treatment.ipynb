{
 "cells": [
  {
   "cell_type": "code",
   "execution_count": 2,
   "metadata": {},
   "outputs": [],
   "source": [
    "import pandas as pd"
   ]
  },
  {
   "cell_type": "code",
   "execution_count": 5,
   "metadata": {},
   "outputs": [],
   "source": [
    "caminho_arquivo = '/Users/emilytsen/Documents/courses/ds_cancer/df/Cancer Deaths by Country and Type Dataset.csv'\n",
    "dados = pd.read_csv(caminho_arquivo)"
   ]
  },
  {
   "cell_type": "code",
   "execution_count": 6,
   "metadata": {},
   "outputs": [
    {
     "name": "stdout",
     "output_type": "stream",
     "text": [
      "<class 'pandas.core.frame.DataFrame'>\n",
      "RangeIndex: 5994 entries, 0 to 5993\n",
      "Data columns (total 30 columns):\n",
      " #   Column                                 Non-Null Count  Dtype  \n",
      "---  ------                                 --------------  -----  \n",
      " 0   Country                                5994 non-null   object \n",
      " 1   Code                                   5966 non-null   object \n",
      " 2   Year                                   5994 non-null   int64  \n",
      " 3   Liver cancer                           5994 non-null   float64\n",
      " 4   Kidney cancer                          5994 non-null   float64\n",
      " 5   Larynx cancer                          5994 non-null   float64\n",
      " 6   Breast cancer                          5994 non-null   float64\n",
      " 7   Thyroid cancer                         5994 non-null   float64\n",
      " 8   Stomach cancer                         5994 non-null   float64\n",
      " 9   Bladder cancer                         5994 non-null   float64\n",
      " 10  Uterine cancer                         5994 non-null   float64\n",
      " 11  Ovarian cancer                         5994 non-null   float64\n",
      " 12  Cervical cancer                        5994 non-null   float64\n",
      " 13  Prostate cancer                        5994 non-null   float64\n",
      " 14  Pancreatic cancer                      5994 non-null   float64\n",
      " 15  Esophageal cancer                      5994 non-null   float64\n",
      " 16  Testicular cancer                      5994 non-null   float64\n",
      " 17  Nasopharynx cancer                     5994 non-null   float64\n",
      " 18  Other pharynx cancer                   5994 non-null   float64\n",
      " 19  Colon and rectum cancer                5994 non-null   float64\n",
      " 20  Non-melanoma skin cancer               5994 non-null   float64\n",
      " 21  Lip and oral cavity cancer             5994 non-null   float64\n",
      " 22  Brain and nervous system cancer        5994 non-null   float64\n",
      " 23  Tracheal, bronchus, and lung cancer    5994 non-null   float64\n",
      " 24  Gallbladder and biliary tract cancer   5994 non-null   float64\n",
      " 25  Malignant skin melanoma                5994 non-null   float64\n",
      " 26  Leukemia                               5994 non-null   float64\n",
      " 27  Hodgkin lymphoma                       5994 non-null   float64\n",
      " 28  Multiple myeloma                       5994 non-null   float64\n",
      " 29  Other cancers                          5994 non-null   float64\n",
      "dtypes: float64(27), int64(1), object(2)\n",
      "memory usage: 1.4+ MB\n",
      "None\n"
     ]
    }
   ],
   "source": [
    "print(dados.info())"
   ]
  },
  {
   "cell_type": "code",
   "execution_count": 7,
   "metadata": {},
   "outputs": [
    {
     "name": "stdout",
     "output_type": "stream",
     "text": [
      "       Country Code  Year  Liver cancer   Kidney cancer   Larynx cancer   \\\n",
      "0  Afghanistan  AFG  1990     243.663716       39.470495      109.334207   \n",
      "1  Afghanistan  AFG  1991     261.241824       41.376024      117.311719   \n",
      "2  Afghanistan  AFG  1992     284.443630       44.106315      128.071634   \n",
      "3  Afghanistan  AFG  1993     313.136816       47.424854      141.429604   \n",
      "4  Afghanistan  AFG  1994     343.229715       50.710951      155.754606   \n",
      "\n",
      "   Breast cancer   Thyroid cancer   Stomach cancer   Bladder cancer   ...  \\\n",
      "0      766.535431        79.820167       923.495208       148.139204  ...   \n",
      "1      823.233932        85.111020       989.709648       156.977412  ...   \n",
      "2      901.022100        92.240603      1078.459037       168.990462  ...   \n",
      "3      996.432762       101.206726      1192.064525       184.347737  ...   \n",
      "4     1097.895223       110.679923      1316.505674       200.246949  ...   \n",
      "\n",
      "   Non-melanoma skin cancer   Lip and oral cavity cancer   \\\n",
      "0                  26.446156                    53.599636   \n",
      "1                  28.275271                    57.148890   \n",
      "2                  30.718152                    61.876100   \n",
      "3                  33.835442                    67.504857   \n",
      "4                  37.103370                    73.175879   \n",
      "\n",
      "   Brain and nervous system cancer   Tracheal, bronchus, and lung cancer   \\\n",
      "0                        163.869062                            797.265710   \n",
      "1                        174.183219                            853.126362   \n",
      "2                        188.382296                            927.812846   \n",
      "3                        205.250430                           1017.964700   \n",
      "4                        222.383572                           1110.997186   \n",
      "\n",
      "   Gallbladder and biliary tract cancer   Malignant skin melanoma   \\\n",
      "0                             125.936240                 14.293978   \n",
      "1                             133.781377                 15.241048   \n",
      "2                             144.287648                 16.508833   \n",
      "3                             157.471005                 18.038507   \n",
      "4                             171.311262                 19.606636   \n",
      "\n",
      "    Leukemia   Hodgkin lymphoma   Multiple myeloma   Other cancers   \n",
      "0  727.763429         191.367386          50.719442      294.839679  \n",
      "1  766.040181         203.509622          54.317640      311.469065  \n",
      "2  820.956547         220.208033          59.144200      334.565964  \n",
      "3  891.134162         240.718821          64.938582      362.486749  \n",
      "4  965.286072         262.324068          70.930355      390.334685  \n",
      "\n",
      "[5 rows x 30 columns]\n"
     ]
    }
   ],
   "source": [
    "print(dados.head())"
   ]
  },
  {
   "cell_type": "code",
   "execution_count": 8,
   "metadata": {},
   "outputs": [
    {
     "name": "stdout",
     "output_type": "stream",
     "text": [
      "              Year  Liver cancer   Kidney cancer   Larynx cancer   \\\n",
      "count  5994.000000    5994.000000     5994.000000     5994.000000   \n",
      "mean   2003.000000    8907.908512     1342.744808     1371.970404   \n",
      "std       7.789531   55965.974727     7087.274042     7190.191345   \n",
      "min    1990.000000       0.960402        0.143037        0.231970   \n",
      "25%    1996.000000      92.843912       17.404588       20.022001   \n",
      "50%    2003.000000     401.691060       85.401511       86.289398   \n",
      "75%    2010.000000    1805.795436      454.487708      434.998062   \n",
      "max    2016.000000  828944.651500   131799.624500   111043.780400   \n",
      "\n",
      "       Breast cancer   Thyroid cancer   Stomach cancer   Bladder cancer   \\\n",
      "count     5994.000000      5994.000000      5994.000000      5994.000000   \n",
      "mean      6297.916868       483.874024     11130.351278      2030.700329   \n",
      "std      31841.675025      2508.040827     64410.670021     10543.497398   \n",
      "min          1.653192         0.060434         1.644566         0.148716   \n",
      "25%        127.368354         6.964016       117.148820        27.482896   \n",
      "50%        561.325363        34.718334       644.393857       169.078880   \n",
      "75%       2344.794356       157.245398      2795.821535       729.658079   \n",
      "max     545589.801900     42861.245820    857369.475600    186198.614000   \n",
      "\n",
      "       Uterine cancer   Ovarian cancer   ...  Non-melanoma skin cancer   \\\n",
      "count      5994.000000      5994.000000  ...                5994.000000   \n",
      "mean       1069.272688      1818.014182  ...                 565.687519   \n",
      "std        5445.352401      9291.386296  ...                2935.407086   \n",
      "min           0.309278         0.222958  ...                   0.170252   \n",
      "25%          21.092977        30.649414  ...                   9.465047   \n",
      "50%         106.441279       140.509178  ...                  44.873701   \n",
      "75%         369.435226       703.652127  ...                 203.318685   \n",
      "max       87525.540310    165040.895000  ...               53059.268650   \n",
      "\n",
      "       Lip and oral cavity cancer   Brain and nervous system cancer   \\\n",
      "count                  5994.000000                       5994.000000   \n",
      "mean                   1784.387044                       2542.764670   \n",
      "std                   10063.283496                      13476.852607   \n",
      "min                       0.313214                          0.405962   \n",
      "25%                      22.655564                         40.580060   \n",
      "50%                      91.213761                        194.919202   \n",
      "75%                     418.759121                        832.665544   \n",
      "max                  176489.470300                     227038.632800   \n",
      "\n",
      "       Tracheal, bronchus, and lung cancer   \\\n",
      "count                          5.994000e+03   \n",
      "mean                           1.858655e+04   \n",
      "std                            1.039010e+05   \n",
      "min                            2.792068e+00   \n",
      "25%                            1.535769e+02   \n",
      "50%                            8.543490e+02   \n",
      "75%                            5.427892e+03   \n",
      "max                            1.706879e+06   \n",
      "\n",
      "       Gallbladder and biliary tract cancer   Malignant skin melanoma   \\\n",
      "count                            5994.000000               5994.000000   \n",
      "mean                             1764.917593                661.918293   \n",
      "std                              9434.782225               3423.468873   \n",
      "min                                 0.116207                  0.079525   \n",
      "25%                                23.619876                  8.455422   \n",
      "50%                               116.661762                 46.354649   \n",
      "75%                               576.030391                241.917397   \n",
      "max                            161559.969300              61679.777420   \n",
      "\n",
      "           Leukemia   Hodgkin lymphoma   Multiple myeloma   Other cancers   \n",
      "count    5994.000000        5994.000000        5994.000000     5994.000000  \n",
      "mean     3892.732488         465.281727        1017.231353     4404.435919  \n",
      "std     20218.584717        2371.446265        5311.224034    22824.551763  \n",
      "min         0.954250           0.058032           0.189680        0.774370  \n",
      "25%        64.065855           6.083444          15.864887       96.773176  \n",
      "50%       335.543188          40.120431          81.672796      389.130323  \n",
      "75%      1444.706225         171.334909         351.307027     1680.983372  \n",
      "max    310165.329700       36567.894480       98437.154300   431337.664700  \n",
      "\n",
      "[8 rows x 28 columns]\n"
     ]
    }
   ],
   "source": [
    "print(dados.describe())"
   ]
  },
  {
   "cell_type": "code",
   "execution_count": 9,
   "metadata": {},
   "outputs": [
    {
     "name": "stdout",
     "output_type": "stream",
     "text": [
      "Country                                   0\n",
      "Code                                     28\n",
      "Year                                      0\n",
      "Liver cancer                              0\n",
      "Kidney cancer                             0\n",
      "Larynx cancer                             0\n",
      "Breast cancer                             0\n",
      "Thyroid cancer                            0\n",
      "Stomach cancer                            0\n",
      "Bladder cancer                            0\n",
      "Uterine cancer                            0\n",
      "Ovarian cancer                            0\n",
      "Cervical cancer                           0\n",
      "Prostate cancer                           0\n",
      "Pancreatic cancer                         0\n",
      "Esophageal cancer                         0\n",
      "Testicular cancer                         0\n",
      "Nasopharynx cancer                        0\n",
      "Other pharynx cancer                      0\n",
      "Colon and rectum cancer                   0\n",
      "Non-melanoma skin cancer                  0\n",
      "Lip and oral cavity cancer                0\n",
      "Brain and nervous system cancer           0\n",
      "Tracheal, bronchus, and lung cancer       0\n",
      "Gallbladder and biliary tract cancer      0\n",
      "Malignant skin melanoma                   0\n",
      "Leukemia                                  0\n",
      "Hodgkin lymphoma                          0\n",
      "Multiple myeloma                          0\n",
      "Other cancers                             0\n",
      "dtype: int64\n"
     ]
    }
   ],
   "source": [
    "print(dados.isnull().sum())"
   ]
  }
 ],
 "metadata": {
  "kernelspec": {
   "display_name": "base",
   "language": "python",
   "name": "python3"
  },
  "language_info": {
   "codemirror_mode": {
    "name": "ipython",
    "version": 3
   },
   "file_extension": ".py",
   "mimetype": "text/x-python",
   "name": "python",
   "nbconvert_exporter": "python",
   "pygments_lexer": "ipython3",
   "version": "3.11.3"
  },
  "orig_nbformat": 4
 },
 "nbformat": 4,
 "nbformat_minor": 2
}
