{
 "cells": [
  {
   "cell_type": "markdown",
   "metadata": {},
   "source": [
    "# correlation between deaths os cancer and life expectency"
   ]
  },
  {
   "cell_type": "code",
   "execution_count": 7,
   "metadata": {},
   "outputs": [],
   "source": [
    "import matplotlib.pyplot as plt\n",
    "import pandas as pd"
   ]
  },
  {
   "cell_type": "code",
   "execution_count": 8,
   "metadata": {},
   "outputs": [],
   "source": [
    "le_data = pd.read_csv('/Users/emilytsen/Documents/projects/ds_cancer/df/life_expectancy.csv') #life expectency\n",
    "cd_data = pd.read_csv('/Users/emilytsen/Documents/projects/ds_cancer/df/df_countrys.csv') #cancer deaths"
   ]
  },
  {
   "cell_type": "markdown",
   "metadata": {},
   "source": [
    "plt.plot(le_data[])"
   ]
  },
  {
   "cell_type": "code",
   "execution_count": 11,
   "metadata": {},
   "outputs": [
    {
     "name": "stdout",
     "output_type": "stream",
     "text": [
      "['Australia' 'Brazil' 'Canada' 'China' 'France' 'Germany' 'India' 'Italy'\n",
      " 'Japan' 'Mexico' 'Russia' 'Spain' 'Switzerland' 'United Kingdom'\n",
      " 'United States']\n"
     ]
    }
   ],
   "source": [
    "paises = le_data['COUNTRY'].unique()\n",
    "print(paises)"
   ]
  },
  {
   "cell_type": "code",
   "execution_count": 14,
   "metadata": {},
   "outputs": [
    {
     "name": "stdout",
     "output_type": "stream",
     "text": [
      "Empty DataFrame\n",
      "Columns: [COUNTRY, CODE, YEAR, LIVER_CANCER, KIDNEY_CANCER, LARYNX_CANCER, BREAST_CANCER, THYROID_CANCER, STOMACH_CANCER, BLADDER_CANCER, UTERINE_CANCER, OVARIAN_CANCER, CERVICAL_CANCER, PROSTATE_CANCER, PANCREATIC_CANCER, ESOPHAGEAL_CANCER, TESTICULAR_CANCER, NASOPHARYNX_CANCER, OTHER_PHARYNX_CANCER, COLON_AND_RECTUM_CANCER, NON-MELANOMA_SKIN_CANCER, LIP_AND_ORAL_CAVITY_CANCER, BRAIN_AND_NERVOUS_SYSTEM_CANCER, TRACHEAL,_BRONCHUS,_AND_LUNG_CANCER, GALLBLADDER_AND_BILIARY_TRACT_CANCER, MALIGNANT_SKIN_MELANOMA, LEUKEMIA, HODGKIN_LYMPHOMA, MULTIPLE_MYELOMA, OTHER_CANCERS]\n",
      "Index: []\n",
      "\n",
      "[0 rows x 30 columns]\n"
     ]
    }
   ],
   "source": [
    "paises_presentes = cd_data[cd_data['COUNTRY'].isin(paises)]\n",
    "\n",
    "print(paises_presentes)"
   ]
  }
 ],
 "metadata": {
  "kernelspec": {
   "display_name": "Python 3",
   "language": "python",
   "name": "python3"
  },
  "language_info": {
   "codemirror_mode": {
    "name": "ipython",
    "version": 3
   },
   "file_extension": ".py",
   "mimetype": "text/x-python",
   "name": "python",
   "nbconvert_exporter": "python",
   "pygments_lexer": "ipython3",
   "version": "3.12.2"
  }
 },
 "nbformat": 4,
 "nbformat_minor": 2
}
