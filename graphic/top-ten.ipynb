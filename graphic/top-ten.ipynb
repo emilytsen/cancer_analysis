{
 "cells": [
  {
   "cell_type": "code",
   "execution_count": 1,
   "metadata": {},
   "outputs": [],
   "source": [
    "import pandas as pd"
   ]
  },
  {
   "cell_type": "code",
   "execution_count": 2,
   "metadata": {},
   "outputs": [],
   "source": [
    "dados = pd.read_csv('/Users/emilytsen/Documents/courses/ds_cancer/df/df_country.csv')"
   ]
  },
  {
   "cell_type": "code",
   "execution_count": 6,
   "metadata": {},
   "outputs": [
    {
     "name": "stdout",
     "output_type": "stream",
     "text": [
      "Número de nomes na lista colunas_cancer: 26\n"
     ]
    }
   ],
   "source": [
    "# Lista de colunas relacionadas a diferentes tipos de câncer\n",
    "colunas_cancer = ['LIVER CANCER ', 'KIDNEY CANCER ', 'LARYNX CANCER ', 'BREAST CANCER ', 'THYROID CANCER ', \n",
    "                  'STOMACH CANCER ', 'BLADDER CANCER ', 'UTERINE CANCER ', 'OVARIAN CANCER ', 'CERVICAL CANCER ', \n",
    "                  'PROSTATE CANCER ', 'PANCREATIC CANCER ', 'ESOPHAGEAL CANCER ', 'TESTICULAR CANCER ', \n",
    "                  'NASOPHARYNX CANCER ', 'OTHER PHARYNX CANCER ', 'COLON AND RECTUM CANCER ', 'NON-MELANOMA SKIN CANCER ', \n",
    "                  'LIP AND ORAL CAVITY CANCER ', 'BRAIN AND NERVOUS SYSTEM CANCER ', 'TRACHEAL, BRONCHUS, AND LUNG CANCER ', \n",
    "                  'GALLBLADDER AND BILIARY TRACT CANCER ', 'MALIGNANT SKIN MELANOMA ', 'LEUKEMIA ', 'HODGKIN LYMPHOMA ', \n",
    "                  'MULTIPLE MYELOMA ']\n",
    "\n",
    "\n",
    "numero_de_nomes = len(colunas_cancer)\n",
    "print(\"Número de nomes na lista colunas_cancer:\", numero_de_nomes)\n"
   ]
  },
  {
   "cell_type": "code",
   "execution_count": 7,
   "metadata": {},
   "outputs": [
    {
     "name": "stdout",
     "output_type": "stream",
     "text": [
      "COUNTRY\n",
      "WORLD             1.825285e+08\n",
      "EAST ASIA         5.348590e+07\n",
      "CHINA             5.160498e+07\n",
      "WESTERN EUROPE    2.592141e+07\n",
      "SOUTH ASIA        1.796044e+07\n",
      "NORTH AMERICA     1.621417e+07\n",
      "UNITED STATES     1.448809e+07\n",
      "INDIA             1.371470e+07\n",
      "EASTERN EUROPE    1.139966e+07\n",
      "SOUTHEAST ASIA    1.043181e+07\n",
      "Name: Total Deaths, dtype: float64\n"
     ]
    }
   ],
   "source": [
    "# Calcule a soma das mortes por câncer para cada país\n",
    "dados['Total Deaths'] = dados[colunas_cancer].sum(axis=1)\n",
    "\n",
    "# Agrupe os dados por país e calcule a soma total das mortes por câncer para cada país\n",
    "soma_mortes_por_pais = dados.groupby('COUNTRY')['Total Deaths'].sum()\n",
    "\n",
    "# Ordene os países com base na soma das mortes por câncer em ordem decrescente\n",
    "top_10_paises = soma_mortes_por_pais.sort_values(ascending=False).head(10)\n",
    "\n",
    "print(top_10_paises)"
   ]
  }
 ],
 "metadata": {
  "kernelspec": {
   "display_name": "base",
   "language": "python",
   "name": "python3"
  },
  "language_info": {
   "codemirror_mode": {
    "name": "ipython",
    "version": 3
   },
   "file_extension": ".py",
   "mimetype": "text/x-python",
   "name": "python",
   "nbconvert_exporter": "python",
   "pygments_lexer": "ipython3",
   "version": "3.11.3"
  },
  "orig_nbformat": 4
 },
 "nbformat": 4,
 "nbformat_minor": 2
}
